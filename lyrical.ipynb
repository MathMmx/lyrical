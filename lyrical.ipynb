{
 "cells": [
  {
   "cell_type": "code",
   "execution_count": null,
   "metadata": {},
   "outputs": [],
   "source": [
    "import requests\n",
    "from bs4 import BeautifulSoup\n",
    "import pandas as pd\n",
    "import re\n",
    "\n",
    "def fetch_page(url):\n",
    "    response = requests.get(url)\n",
    "    return BeautifulSoup(response.text, 'html.parser')\n",
    "\n",
    "def get_genres(source_url):\n",
    "    soup = fetch_page(source_url)\n",
    "    genres_list = []\n",
    "    get_genres = soup.find('ul', class_='cnt-list')\n",
    "    for li in get_genres.find_all('li'):\n",
    "        a_tag = li.find('a')\n",
    "        href = a_tag['href'].replace('/estilos/', '').rstrip('/')\n",
    "        genres_list.append(href)\n",
    "    return genres_list\n",
    "\n",
    "def get_top10_songs(genre_urls, base_url_genres):\n",
    "    top10_songs = []\n",
    "    for genre_url in genre_urls:\n",
    "        soup = fetch_page(genre_url)\n",
    "        get_top10 = soup.find('ol', class_='top-list_mus')\n",
    "        if get_top10:\n",
    "            for li in get_top10.find_all('li'):\n",
    "                tag = li.find('a')\n",
    "                if tag and tag.has_attr('href'):\n",
    "                    top10_songs.append(base_url_genres + tag['href'])\n",
    "    return top10_songs\n",
    "\n",
    "def fetch_song_details(song_url):\n",
    "    soup = fetch_page(song_url)\n",
    "    achar_letra = soup.find('div', class_='lyric-original')       \n",
    "    letra = achar_letra.find_all('p')\n",
    "    letra_limpa = ''.join([p.text for p in letra])\n",
    "    \n",
    "    achar_artista_e_musica = soup.find('div', class_='title-content')  \n",
    "    artista = achar_artista_e_musica.find('h2').text.strip()\n",
    "    musica = achar_artista_e_musica.find('h1').text.strip()\n",
    "\n",
    "    letra_limpa_final = re.sub(r'([;áéíóúàèìòùãõâêîôû;a-z,;!;.;?;)])([;A-Z;ÁÉÍÓÚÂÊÎÔÛÃÕ;])', r'\\1\\n\\2', letra_limpa)\n",
    "    return artista, musica, letra_limpa_final\n",
    "\n",
    "def create_lyrics_database(genres_list, top10_songs):\n",
    "    Artista = []\n",
    "    Musica = []\n",
    "    Letra = []\n",
    "\n",
    "    for song in top10_songs:\n",
    "        artista, musica, letra_limpa_final = fetch_song_details(song)\n",
    "        Musica.append(musica)\n",
    "        Artista.append(artista)\n",
    "        Letra.append(letra_limpa_final)\n",
    "\n",
    "    dict_final = {}\n",
    "    num_musicas_por_genero = 10\n",
    "    inicio = 0\n",
    "    i = 0\n",
    "    fim = num_musicas_por_genero\n",
    "\n",
    "    for genero in genres_list:\n",
    "        dict_final[genero] = {\n",
    "            'Artista': Artista[inicio:fim],\n",
    "            'Musica': Musica[inicio:fim],\n",
    "            'Letra': Letra[inicio:fim]\n",
    "        }\n",
    "        i += 1\n",
    "        inicio = i * num_musicas_por_genero\n",
    "        fim = inicio + num_musicas_por_genero\n",
    "\n",
    "    df = pd.DataFrame.from_dict(dict_final, orient='index')\n",
    "    df = df.apply(pd.Series.explode).reset_index()\n",
    "    return df\n",
    "\n",
    "def adicionar_quebra_de_linha(letra):\n",
    "    padrao = r'([a-záéíóúàèìòùãõâêîôû;!?.])([A-ZÁÉÍÓÚÀÈÌÒÙÃÕÂÊÎÔÛ;¿¡])'\n",
    "    return re.sub(padrao, r'\\1\\n\\2', letra)\n",
    "\n",
    "def main():\n",
    "    source_url = 'https://www.letras.mus.br/estilos/'\n",
    "    base_url = 'https://www.letras.mus.br/estilos/'\n",
    "    base_url_genres = 'http://www.letras.mus.br'\n",
    "\n",
    "    genres_list = get_genres(source_url)\n",
    "    genre_urls = [base_url + genre for genre in genres_list]\n",
    "    top10_songs = get_top10_songs(genre_urls, base_url_genres)\n",
    "    df = create_lyrics_database(genres_list, top10_songs)\n",
    "\n",
    "    df['Letra limpa'] = df['Letra'].apply(adicionar_quebra_de_linha)\n",
    "    df.to_csv('lyrical_database.csv', index=False)\n",
    "\n",
    "if __name__ == \"__main__\":\n",
    "    main()\n"
   ]
  },
  {
   "cell_type": "code",
   "execution_count": 4,
   "metadata": {},
   "outputs": [],
   "source": [
    "import pandas as pd\n",
    "import re\n",
    "from collections import Counter\n",
    "\n",
    "df = pd.read_csv('lyrical_database.csv')\n",
    "df\n",
    "filtro = df['Letra'].isnull()\n",
    "\n",
    "df[filtro]\n",
    "df[filtro].index\n",
    "df.drop(df[filtro].index, inplace = True)\n",
    "\n",
    "# Function to calculate lexical diversity\n",
    "def lexical_diversity(text):\n",
    "    words = text.split()\n",
    "    return len(set(words)) / len(words)\n",
    "\n",
    "\n",
    "\n",
    "# Funcao para processar as letras\n",
    "def preprocess_lyrics(lyrics):\n",
    "    # Normalize line breaks and whitespace\n",
    "    lyrics = re.sub(r'\\s+', ' ', lyrics).strip()\n",
    "    # Convert to lowercase\n",
    "    lyrics = lyrics.lower()\n",
    "    # Remove punctuation\n",
    "    lyrics = re.sub(r'[^\\w\\s]', '', lyrics)\n",
    "    return lyrics\n",
    "\n",
    "df['Letra limpa'] = df['Letra limpa'].astype(\"string\")\n",
    "# Aplicar a funcao para as letras\n",
    "df['Letras processadas'] = df['Letra limpa'].apply(preprocess_lyrics)\n",
    "\n",
    "# Mostrando as letras processadas para vizualizacao\n",
    "df[['Artista', 'Musica', 'Letras processadas']].head()\n",
    "\n",
    "# Calculate vocabulary size and lexical diversity for each song\n",
    "df['Volume de Vocabulario'] = df['Letras processadas'].apply(lambda x: len(set(x.split())))\n",
    "df['Diversidade Lexical'] = df['Letras processadas'].apply(lexical_diversity)\n",
    "\n",
    "# Display the results\n",
    "df[['Artista', 'Musica', 'Volume de Vocabulario', 'Diversidade Lexical']]\n",
    "\n",
    "\n",
    "def words_before_slash_r(text):\n",
    "    linhas = text.strip().split('\\n')\n",
    "    ultimas_palavras = [linha.split()[-1] for linha in linhas if linha.split()]\n",
    "    return ultimas_palavras\n",
    "\n",
    "df['rhymes'] = df['Letra'].apply(words_before_slash_r)\n",
    "df['rhymes']\n",
    "\n",
    "df.rename(columns={'index': 'Genero'}, inplace = True)\n",
    "df.to_excel('lyrical_to_comparison.xlsx', index= False)\n",
    "\n",
    "\n",
    "\n",
    "\n"
   ]
  },
  {
   "cell_type": "code",
   "execution_count": 1,
   "metadata": {},
   "outputs": [
    {
     "data": {
      "application/vnd.plotly.v1+json": {
       "config": {
        "plotlyServerURL": "https://plot.ly"
       },
       "data": [
        {
         "text": [
          100.1,
          104.9,
          60.5,
          73.1,
          117.9,
          83,
          66.8,
          68.6,
          73.3,
          74.1,
          121.3,
          90.5,
          108.8,
          77.9,
          78.9,
          136.9,
          115.9,
          76.3,
          113,
          63.1,
          105.7,
          96.6,
          57,
          250.4,
          191.9,
          77.2,
          82.8,
          74.3,
          77,
          104.4,
          128.7,
          80.8,
          268.8,
          58.2,
          67.3,
          71.4,
          77.75,
          116.6,
          82,
          81.4,
          184.7,
          100.7,
          93.4,
          76.3,
          97.2,
          96.6,
          94,
          57.8,
          92.8,
          107.2,
          51.5,
          80.6,
          80.6,
          66.2,
          114.9,
          71.3,
          43.6,
          94.1,
          56.2,
          89,
          104.8,
          101.2,
          97.9,
          149.1,
          99.2,
          89.7,
          102.5,
          90.7,
          77.1,
          76.2,
          104.4,
          128.2,
          91.9,
          85.6,
          83,
          91.3,
          98.9,
          98.1,
          92.6,
          123.8,
          109.3,
          241.2,
          81.9,
          135.7,
          87.9,
          79.2,
          97.7,
          88.4
         ],
         "textposition": "auto",
         "type": "bar",
         "width": 0.8,
         "x": [
          "afrobeats",
          "alternativo-indie",
          "arrocha",
          "axe",
          "bachata",
          "blues",
          "bolero",
          "bossa-nova",
          "brega",
          "classico",
          "corridos",
          "country",
          "cuarteto",
          "cumbia",
          "dance",
          "dancehall",
          "disco",
          "eletronica",
          "emocore",
          "fado",
          "flamenco-bulerias",
          "folk",
          "forro",
          "funk",
          "funk-internacional",
          "gospelreligioso",
          "grunge",
          "guarania",
          "gotico",
          "hard-rock",
          "hardcore",
          "heavy-metal",
          "hip-hop-rap",
          "house",
          "industrial",
          "infantil",
          "instrumental",
          "j-popj-rock",
          "jazz",
          "jovem-guarda",
          "k-pop",
          "mpb",
          "mambo",
          "marchas-hinos",
          "mariachi",
          "merengue",
          "metal",
          "musica-andina",
          "musica-de-banda",
          "nativista",
          "new-age",
          "new-wave",
          "pagode",
          "piseiro",
          "pop",
          "poprock",
          "post-rock",
          "power-pop",
          "psicodelia",
          "punk-rock",
          "rb",
          "ranchera",
          "reggae",
          "reggaeton",
          "regional",
          "rock",
          "rock-alternativo",
          "progressivo",
          "rock-roll",
          "rockabilly",
          "romantico",
          "salsa",
          "samba",
          "samba-enredo",
          "sertanejo",
          "ska",
          "soft-rock",
          "soul",
          "surf-music",
          "tango",
          "tecnopop",
          "trap",
          "trova",
          "vallenato",
          "velha-guarda",
          "world-music",
          "zamba",
          "zouk"
         ],
         "y": [
          100.1,
          104.9,
          60.5,
          73.1,
          117.9,
          83,
          66.8,
          68.6,
          73.3,
          74.1,
          121.3,
          90.5,
          108.8,
          77.9,
          78.9,
          136.9,
          115.9,
          76.3,
          113,
          63.1,
          105.7,
          96.6,
          57,
          250.4,
          191.9,
          77.2,
          82.8,
          74.3,
          77,
          104.4,
          128.7,
          80.8,
          268.8,
          58.2,
          67.3,
          71.4,
          77.75,
          116.6,
          82,
          81.4,
          184.7,
          100.7,
          93.4,
          76.3,
          97.2,
          96.6,
          94,
          57.8,
          92.8,
          107.2,
          51.5,
          80.6,
          80.6,
          66.2,
          114.9,
          71.3,
          43.6,
          94.1,
          56.2,
          89,
          104.8,
          101.2,
          97.9,
          149.1,
          99.2,
          89.7,
          102.5,
          90.7,
          77.1,
          76.2,
          104.4,
          128.2,
          91.9,
          85.6,
          83,
          91.3,
          98.9,
          98.1,
          92.6,
          123.8,
          109.3,
          241.2,
          81.9,
          135.7,
          87.9,
          79.2,
          97.7,
          88.4
         ]
        }
       ],
       "layout": {
        "bargap": 0.1,
        "template": {
         "data": {
          "bar": [
           {
            "error_x": {
             "color": "#2a3f5f"
            },
            "error_y": {
             "color": "#2a3f5f"
            },
            "marker": {
             "line": {
              "color": "#E5ECF6",
              "width": 0.5
             },
             "pattern": {
              "fillmode": "overlay",
              "size": 10,
              "solidity": 0.2
             }
            },
            "type": "bar"
           }
          ],
          "barpolar": [
           {
            "marker": {
             "line": {
              "color": "#E5ECF6",
              "width": 0.5
             },
             "pattern": {
              "fillmode": "overlay",
              "size": 10,
              "solidity": 0.2
             }
            },
            "type": "barpolar"
           }
          ],
          "carpet": [
           {
            "aaxis": {
             "endlinecolor": "#2a3f5f",
             "gridcolor": "white",
             "linecolor": "white",
             "minorgridcolor": "white",
             "startlinecolor": "#2a3f5f"
            },
            "baxis": {
             "endlinecolor": "#2a3f5f",
             "gridcolor": "white",
             "linecolor": "white",
             "minorgridcolor": "white",
             "startlinecolor": "#2a3f5f"
            },
            "type": "carpet"
           }
          ],
          "choropleth": [
           {
            "colorbar": {
             "outlinewidth": 0,
             "ticks": ""
            },
            "type": "choropleth"
           }
          ],
          "contour": [
           {
            "colorbar": {
             "outlinewidth": 0,
             "ticks": ""
            },
            "colorscale": [
             [
              0,
              "#0d0887"
             ],
             [
              0.1111111111111111,
              "#46039f"
             ],
             [
              0.2222222222222222,
              "#7201a8"
             ],
             [
              0.3333333333333333,
              "#9c179e"
             ],
             [
              0.4444444444444444,
              "#bd3786"
             ],
             [
              0.5555555555555556,
              "#d8576b"
             ],
             [
              0.6666666666666666,
              "#ed7953"
             ],
             [
              0.7777777777777778,
              "#fb9f3a"
             ],
             [
              0.8888888888888888,
              "#fdca26"
             ],
             [
              1,
              "#f0f921"
             ]
            ],
            "type": "contour"
           }
          ],
          "contourcarpet": [
           {
            "colorbar": {
             "outlinewidth": 0,
             "ticks": ""
            },
            "type": "contourcarpet"
           }
          ],
          "heatmap": [
           {
            "colorbar": {
             "outlinewidth": 0,
             "ticks": ""
            },
            "colorscale": [
             [
              0,
              "#0d0887"
             ],
             [
              0.1111111111111111,
              "#46039f"
             ],
             [
              0.2222222222222222,
              "#7201a8"
             ],
             [
              0.3333333333333333,
              "#9c179e"
             ],
             [
              0.4444444444444444,
              "#bd3786"
             ],
             [
              0.5555555555555556,
              "#d8576b"
             ],
             [
              0.6666666666666666,
              "#ed7953"
             ],
             [
              0.7777777777777778,
              "#fb9f3a"
             ],
             [
              0.8888888888888888,
              "#fdca26"
             ],
             [
              1,
              "#f0f921"
             ]
            ],
            "type": "heatmap"
           }
          ],
          "heatmapgl": [
           {
            "colorbar": {
             "outlinewidth": 0,
             "ticks": ""
            },
            "colorscale": [
             [
              0,
              "#0d0887"
             ],
             [
              0.1111111111111111,
              "#46039f"
             ],
             [
              0.2222222222222222,
              "#7201a8"
             ],
             [
              0.3333333333333333,
              "#9c179e"
             ],
             [
              0.4444444444444444,
              "#bd3786"
             ],
             [
              0.5555555555555556,
              "#d8576b"
             ],
             [
              0.6666666666666666,
              "#ed7953"
             ],
             [
              0.7777777777777778,
              "#fb9f3a"
             ],
             [
              0.8888888888888888,
              "#fdca26"
             ],
             [
              1,
              "#f0f921"
             ]
            ],
            "type": "heatmapgl"
           }
          ],
          "histogram": [
           {
            "marker": {
             "pattern": {
              "fillmode": "overlay",
              "size": 10,
              "solidity": 0.2
             }
            },
            "type": "histogram"
           }
          ],
          "histogram2d": [
           {
            "colorbar": {
             "outlinewidth": 0,
             "ticks": ""
            },
            "colorscale": [
             [
              0,
              "#0d0887"
             ],
             [
              0.1111111111111111,
              "#46039f"
             ],
             [
              0.2222222222222222,
              "#7201a8"
             ],
             [
              0.3333333333333333,
              "#9c179e"
             ],
             [
              0.4444444444444444,
              "#bd3786"
             ],
             [
              0.5555555555555556,
              "#d8576b"
             ],
             [
              0.6666666666666666,
              "#ed7953"
             ],
             [
              0.7777777777777778,
              "#fb9f3a"
             ],
             [
              0.8888888888888888,
              "#fdca26"
             ],
             [
              1,
              "#f0f921"
             ]
            ],
            "type": "histogram2d"
           }
          ],
          "histogram2dcontour": [
           {
            "colorbar": {
             "outlinewidth": 0,
             "ticks": ""
            },
            "colorscale": [
             [
              0,
              "#0d0887"
             ],
             [
              0.1111111111111111,
              "#46039f"
             ],
             [
              0.2222222222222222,
              "#7201a8"
             ],
             [
              0.3333333333333333,
              "#9c179e"
             ],
             [
              0.4444444444444444,
              "#bd3786"
             ],
             [
              0.5555555555555556,
              "#d8576b"
             ],
             [
              0.6666666666666666,
              "#ed7953"
             ],
             [
              0.7777777777777778,
              "#fb9f3a"
             ],
             [
              0.8888888888888888,
              "#fdca26"
             ],
             [
              1,
              "#f0f921"
             ]
            ],
            "type": "histogram2dcontour"
           }
          ],
          "mesh3d": [
           {
            "colorbar": {
             "outlinewidth": 0,
             "ticks": ""
            },
            "type": "mesh3d"
           }
          ],
          "parcoords": [
           {
            "line": {
             "colorbar": {
              "outlinewidth": 0,
              "ticks": ""
             }
            },
            "type": "parcoords"
           }
          ],
          "pie": [
           {
            "automargin": true,
            "type": "pie"
           }
          ],
          "scatter": [
           {
            "fillpattern": {
             "fillmode": "overlay",
             "size": 10,
             "solidity": 0.2
            },
            "type": "scatter"
           }
          ],
          "scatter3d": [
           {
            "line": {
             "colorbar": {
              "outlinewidth": 0,
              "ticks": ""
             }
            },
            "marker": {
             "colorbar": {
              "outlinewidth": 0,
              "ticks": ""
             }
            },
            "type": "scatter3d"
           }
          ],
          "scattercarpet": [
           {
            "marker": {
             "colorbar": {
              "outlinewidth": 0,
              "ticks": ""
             }
            },
            "type": "scattercarpet"
           }
          ],
          "scattergeo": [
           {
            "marker": {
             "colorbar": {
              "outlinewidth": 0,
              "ticks": ""
             }
            },
            "type": "scattergeo"
           }
          ],
          "scattergl": [
           {
            "marker": {
             "colorbar": {
              "outlinewidth": 0,
              "ticks": ""
             }
            },
            "type": "scattergl"
           }
          ],
          "scattermapbox": [
           {
            "marker": {
             "colorbar": {
              "outlinewidth": 0,
              "ticks": ""
             }
            },
            "type": "scattermapbox"
           }
          ],
          "scatterpolar": [
           {
            "marker": {
             "colorbar": {
              "outlinewidth": 0,
              "ticks": ""
             }
            },
            "type": "scatterpolar"
           }
          ],
          "scatterpolargl": [
           {
            "marker": {
             "colorbar": {
              "outlinewidth": 0,
              "ticks": ""
             }
            },
            "type": "scatterpolargl"
           }
          ],
          "scatterternary": [
           {
            "marker": {
             "colorbar": {
              "outlinewidth": 0,
              "ticks": ""
             }
            },
            "type": "scatterternary"
           }
          ],
          "surface": [
           {
            "colorbar": {
             "outlinewidth": 0,
             "ticks": ""
            },
            "colorscale": [
             [
              0,
              "#0d0887"
             ],
             [
              0.1111111111111111,
              "#46039f"
             ],
             [
              0.2222222222222222,
              "#7201a8"
             ],
             [
              0.3333333333333333,
              "#9c179e"
             ],
             [
              0.4444444444444444,
              "#bd3786"
             ],
             [
              0.5555555555555556,
              "#d8576b"
             ],
             [
              0.6666666666666666,
              "#ed7953"
             ],
             [
              0.7777777777777778,
              "#fb9f3a"
             ],
             [
              0.8888888888888888,
              "#fdca26"
             ],
             [
              1,
              "#f0f921"
             ]
            ],
            "type": "surface"
           }
          ],
          "table": [
           {
            "cells": {
             "fill": {
              "color": "#EBF0F8"
             },
             "line": {
              "color": "white"
             }
            },
            "header": {
             "fill": {
              "color": "#C8D4E3"
             },
             "line": {
              "color": "white"
             }
            },
            "type": "table"
           }
          ]
         },
         "layout": {
          "annotationdefaults": {
           "arrowcolor": "#2a3f5f",
           "arrowhead": 0,
           "arrowwidth": 1
          },
          "autotypenumbers": "strict",
          "coloraxis": {
           "colorbar": {
            "outlinewidth": 0,
            "ticks": ""
           }
          },
          "colorscale": {
           "diverging": [
            [
             0,
             "#8e0152"
            ],
            [
             0.1,
             "#c51b7d"
            ],
            [
             0.2,
             "#de77ae"
            ],
            [
             0.3,
             "#f1b6da"
            ],
            [
             0.4,
             "#fde0ef"
            ],
            [
             0.5,
             "#f7f7f7"
            ],
            [
             0.6,
             "#e6f5d0"
            ],
            [
             0.7,
             "#b8e186"
            ],
            [
             0.8,
             "#7fbc41"
            ],
            [
             0.9,
             "#4d9221"
            ],
            [
             1,
             "#276419"
            ]
           ],
           "sequential": [
            [
             0,
             "#0d0887"
            ],
            [
             0.1111111111111111,
             "#46039f"
            ],
            [
             0.2222222222222222,
             "#7201a8"
            ],
            [
             0.3333333333333333,
             "#9c179e"
            ],
            [
             0.4444444444444444,
             "#bd3786"
            ],
            [
             0.5555555555555556,
             "#d8576b"
            ],
            [
             0.6666666666666666,
             "#ed7953"
            ],
            [
             0.7777777777777778,
             "#fb9f3a"
            ],
            [
             0.8888888888888888,
             "#fdca26"
            ],
            [
             1,
             "#f0f921"
            ]
           ],
           "sequentialminus": [
            [
             0,
             "#0d0887"
            ],
            [
             0.1111111111111111,
             "#46039f"
            ],
            [
             0.2222222222222222,
             "#7201a8"
            ],
            [
             0.3333333333333333,
             "#9c179e"
            ],
            [
             0.4444444444444444,
             "#bd3786"
            ],
            [
             0.5555555555555556,
             "#d8576b"
            ],
            [
             0.6666666666666666,
             "#ed7953"
            ],
            [
             0.7777777777777778,
             "#fb9f3a"
            ],
            [
             0.8888888888888888,
             "#fdca26"
            ],
            [
             1,
             "#f0f921"
            ]
           ]
          },
          "colorway": [
           "#636efa",
           "#EF553B",
           "#00cc96",
           "#ab63fa",
           "#FFA15A",
           "#19d3f3",
           "#FF6692",
           "#B6E880",
           "#FF97FF",
           "#FECB52"
          ],
          "font": {
           "color": "#2a3f5f"
          },
          "geo": {
           "bgcolor": "white",
           "lakecolor": "white",
           "landcolor": "#E5ECF6",
           "showlakes": true,
           "showland": true,
           "subunitcolor": "white"
          },
          "hoverlabel": {
           "align": "left"
          },
          "hovermode": "closest",
          "mapbox": {
           "style": "light"
          },
          "paper_bgcolor": "white",
          "plot_bgcolor": "#E5ECF6",
          "polar": {
           "angularaxis": {
            "gridcolor": "white",
            "linecolor": "white",
            "ticks": ""
           },
           "bgcolor": "#E5ECF6",
           "radialaxis": {
            "gridcolor": "white",
            "linecolor": "white",
            "ticks": ""
           }
          },
          "scene": {
           "xaxis": {
            "backgroundcolor": "#E5ECF6",
            "gridcolor": "white",
            "gridwidth": 2,
            "linecolor": "white",
            "showbackground": true,
            "ticks": "",
            "zerolinecolor": "white"
           },
           "yaxis": {
            "backgroundcolor": "#E5ECF6",
            "gridcolor": "white",
            "gridwidth": 2,
            "linecolor": "white",
            "showbackground": true,
            "ticks": "",
            "zerolinecolor": "white"
           },
           "zaxis": {
            "backgroundcolor": "#E5ECF6",
            "gridcolor": "white",
            "gridwidth": 2,
            "linecolor": "white",
            "showbackground": true,
            "ticks": "",
            "zerolinecolor": "white"
           }
          },
          "shapedefaults": {
           "line": {
            "color": "#2a3f5f"
           }
          },
          "ternary": {
           "aaxis": {
            "gridcolor": "white",
            "linecolor": "white",
            "ticks": ""
           },
           "baxis": {
            "gridcolor": "white",
            "linecolor": "white",
            "ticks": ""
           },
           "bgcolor": "#E5ECF6",
           "caxis": {
            "gridcolor": "white",
            "linecolor": "white",
            "ticks": ""
           }
          },
          "title": {
           "x": 0.05
          },
          "xaxis": {
           "automargin": true,
           "gridcolor": "white",
           "linecolor": "white",
           "ticks": "",
           "title": {
            "standoff": 15
           },
           "zerolinecolor": "white",
           "zerolinewidth": 2
          },
          "yaxis": {
           "automargin": true,
           "gridcolor": "white",
           "linecolor": "white",
           "ticks": "",
           "title": {
            "standoff": 15
           },
           "zerolinecolor": "white",
           "zerolinewidth": 2
          }
         }
        },
        "title": {
         "text": "Média de Volume de Vocabulário por Gênero"
        },
        "uniformtext": {
         "minsize": 8,
         "mode": "hide"
        },
        "xaxis": {
         "tickangle": 90,
         "title": {
          "text": "Gênero"
         }
        },
        "yaxis": {
         "title": {
          "text": "Média de Volume de Vocabulário"
         }
        }
       }
      }
     },
     "metadata": {},
     "output_type": "display_data"
    },
    {
     "data": {
      "application/vnd.plotly.v1+json": {
       "config": {
        "plotlyServerURL": "https://plot.ly"
       },
       "data": [
        {
         "text": [
          0.29649533929351357,
          0.30683260168851095,
          0.348980939239337,
          0.33620016579713274,
          0.3877496707861502,
          0.4162422028446621,
          0.5117505490192624,
          0.3484897418756725,
          0.38036858481809144,
          0.4555383706573422,
          0.4661309717803853,
          0.37002746961341565,
          0.3904922126125049,
          0.37716557622203534,
          0.30383321164028076,
          0.30113567381500106,
          0.3590132242857814,
          0.2743094002436356,
          0.34544031553643273,
          0.4556728788017267,
          0.3619251335895891,
          0.43737023435231864,
          0.2751791808366333,
          0.3447065764287846,
          0.43487997823555286,
          0.35406918783017455,
          0.37611674372897025,
          0.5768339232234166,
          0.3675845735566545,
          0.362226479423977,
          0.41477409856307057,
          0.34866094357201244,
          0.4094581424011744,
          0.3083561046384713,
          0.39117405704840186,
          0.479039084775983,
          0.43213907238330723,
          0.45585442785473784,
          0.43522798225855397,
          0.40595919767470007,
          0.36732867406149394,
          0.3671136191802943,
          0.44733962248163595,
          0.411648138635646,
          0.4028395895039609,
          0.2685811584030465,
          0.41582577550018784,
          0.42114585080813594,
          0.4141882816672692,
          0.49591975126291066,
          0.37433230471864976,
          0.37429322569397083,
          0.2542872892649335,
          0.2716293260989907,
          0.38048166205994083,
          0.35449872670507077,
          0.5390838195181423,
          0.45667186360947165,
          0.45551008515226615,
          0.40661068993559,
          0.32767559660769774,
          0.4672834369241043,
          0.31759155677756806,
          0.36870074271607634,
          0.3850752096076377,
          0.3709998237668449,
          0.34767025399539675,
          0.4412937603948716,
          0.33365602836337593,
          0.38598338594770276,
          0.35822710279896347,
          0.3620682670233851,
          0.29242426812600053,
          0.35423129375726736,
          0.3050066933838642,
          0.3767224639558093,
          0.3459994414608641,
          0.34457942408961284,
          0.4001625926796864,
          0.5581393602570095,
          0.32633540643514236,
          0.42943436997539025,
          0.4070131803227689,
          0.3758011850929915,
          0.4955478924956903,
          0.3425293677328323,
          0.44531570019852895,
          0.3109870729695187
         ],
         "textposition": "auto",
         "type": "bar",
         "width": 0.8,
         "x": [
          "afrobeats",
          "alternativo-indie",
          "arrocha",
          "axe",
          "bachata",
          "blues",
          "bolero",
          "bossa-nova",
          "brega",
          "classico",
          "corridos",
          "country",
          "cuarteto",
          "cumbia",
          "dance",
          "dancehall",
          "disco",
          "eletronica",
          "emocore",
          "fado",
          "flamenco-bulerias",
          "folk",
          "forro",
          "funk",
          "funk-internacional",
          "gospelreligioso",
          "grunge",
          "guarania",
          "gotico",
          "hard-rock",
          "hardcore",
          "heavy-metal",
          "hip-hop-rap",
          "house",
          "industrial",
          "infantil",
          "instrumental",
          "j-popj-rock",
          "jazz",
          "jovem-guarda",
          "k-pop",
          "mpb",
          "mambo",
          "marchas-hinos",
          "mariachi",
          "merengue",
          "metal",
          "musica-andina",
          "musica-de-banda",
          "nativista",
          "new-age",
          "new-wave",
          "pagode",
          "piseiro",
          "pop",
          "poprock",
          "post-rock",
          "power-pop",
          "psicodelia",
          "punk-rock",
          "rb",
          "ranchera",
          "reggae",
          "reggaeton",
          "regional",
          "rock",
          "rock-alternativo",
          "progressivo",
          "rock-roll",
          "rockabilly",
          "romantico",
          "salsa",
          "samba",
          "samba-enredo",
          "sertanejo",
          "ska",
          "soft-rock",
          "soul",
          "surf-music",
          "tango",
          "tecnopop",
          "trap",
          "trova",
          "vallenato",
          "velha-guarda",
          "world-music",
          "zamba",
          "zouk"
         ],
         "y": [
          0.29649533929351357,
          0.30683260168851095,
          0.348980939239337,
          0.33620016579713274,
          0.3877496707861502,
          0.4162422028446621,
          0.5117505490192624,
          0.3484897418756725,
          0.38036858481809144,
          0.4555383706573422,
          0.4661309717803853,
          0.37002746961341565,
          0.3904922126125049,
          0.37716557622203534,
          0.30383321164028076,
          0.30113567381500106,
          0.3590132242857814,
          0.2743094002436356,
          0.34544031553643273,
          0.4556728788017267,
          0.3619251335895891,
          0.43737023435231864,
          0.2751791808366333,
          0.3447065764287846,
          0.43487997823555286,
          0.35406918783017455,
          0.37611674372897025,
          0.5768339232234166,
          0.3675845735566545,
          0.362226479423977,
          0.41477409856307057,
          0.34866094357201244,
          0.4094581424011744,
          0.3083561046384713,
          0.39117405704840186,
          0.479039084775983,
          0.43213907238330723,
          0.45585442785473784,
          0.43522798225855397,
          0.40595919767470007,
          0.36732867406149394,
          0.3671136191802943,
          0.44733962248163595,
          0.411648138635646,
          0.4028395895039609,
          0.2685811584030465,
          0.41582577550018784,
          0.42114585080813594,
          0.4141882816672692,
          0.49591975126291066,
          0.37433230471864976,
          0.37429322569397083,
          0.2542872892649335,
          0.2716293260989907,
          0.38048166205994083,
          0.35449872670507077,
          0.5390838195181423,
          0.45667186360947165,
          0.45551008515226615,
          0.40661068993559,
          0.32767559660769774,
          0.4672834369241043,
          0.31759155677756806,
          0.36870074271607634,
          0.3850752096076377,
          0.3709998237668449,
          0.34767025399539675,
          0.4412937603948716,
          0.33365602836337593,
          0.38598338594770276,
          0.35822710279896347,
          0.3620682670233851,
          0.29242426812600053,
          0.35423129375726736,
          0.3050066933838642,
          0.3767224639558093,
          0.3459994414608641,
          0.34457942408961284,
          0.4001625926796864,
          0.5581393602570095,
          0.32633540643514236,
          0.42943436997539025,
          0.4070131803227689,
          0.3758011850929915,
          0.4955478924956903,
          0.3425293677328323,
          0.44531570019852895,
          0.3109870729695187
         ]
        }
       ],
       "layout": {
        "bargap": 0.1,
        "template": {
         "data": {
          "bar": [
           {
            "error_x": {
             "color": "#2a3f5f"
            },
            "error_y": {
             "color": "#2a3f5f"
            },
            "marker": {
             "line": {
              "color": "#E5ECF6",
              "width": 0.5
             },
             "pattern": {
              "fillmode": "overlay",
              "size": 10,
              "solidity": 0.2
             }
            },
            "type": "bar"
           }
          ],
          "barpolar": [
           {
            "marker": {
             "line": {
              "color": "#E5ECF6",
              "width": 0.5
             },
             "pattern": {
              "fillmode": "overlay",
              "size": 10,
              "solidity": 0.2
             }
            },
            "type": "barpolar"
           }
          ],
          "carpet": [
           {
            "aaxis": {
             "endlinecolor": "#2a3f5f",
             "gridcolor": "white",
             "linecolor": "white",
             "minorgridcolor": "white",
             "startlinecolor": "#2a3f5f"
            },
            "baxis": {
             "endlinecolor": "#2a3f5f",
             "gridcolor": "white",
             "linecolor": "white",
             "minorgridcolor": "white",
             "startlinecolor": "#2a3f5f"
            },
            "type": "carpet"
           }
          ],
          "choropleth": [
           {
            "colorbar": {
             "outlinewidth": 0,
             "ticks": ""
            },
            "type": "choropleth"
           }
          ],
          "contour": [
           {
            "colorbar": {
             "outlinewidth": 0,
             "ticks": ""
            },
            "colorscale": [
             [
              0,
              "#0d0887"
             ],
             [
              0.1111111111111111,
              "#46039f"
             ],
             [
              0.2222222222222222,
              "#7201a8"
             ],
             [
              0.3333333333333333,
              "#9c179e"
             ],
             [
              0.4444444444444444,
              "#bd3786"
             ],
             [
              0.5555555555555556,
              "#d8576b"
             ],
             [
              0.6666666666666666,
              "#ed7953"
             ],
             [
              0.7777777777777778,
              "#fb9f3a"
             ],
             [
              0.8888888888888888,
              "#fdca26"
             ],
             [
              1,
              "#f0f921"
             ]
            ],
            "type": "contour"
           }
          ],
          "contourcarpet": [
           {
            "colorbar": {
             "outlinewidth": 0,
             "ticks": ""
            },
            "type": "contourcarpet"
           }
          ],
          "heatmap": [
           {
            "colorbar": {
             "outlinewidth": 0,
             "ticks": ""
            },
            "colorscale": [
             [
              0,
              "#0d0887"
             ],
             [
              0.1111111111111111,
              "#46039f"
             ],
             [
              0.2222222222222222,
              "#7201a8"
             ],
             [
              0.3333333333333333,
              "#9c179e"
             ],
             [
              0.4444444444444444,
              "#bd3786"
             ],
             [
              0.5555555555555556,
              "#d8576b"
             ],
             [
              0.6666666666666666,
              "#ed7953"
             ],
             [
              0.7777777777777778,
              "#fb9f3a"
             ],
             [
              0.8888888888888888,
              "#fdca26"
             ],
             [
              1,
              "#f0f921"
             ]
            ],
            "type": "heatmap"
           }
          ],
          "heatmapgl": [
           {
            "colorbar": {
             "outlinewidth": 0,
             "ticks": ""
            },
            "colorscale": [
             [
              0,
              "#0d0887"
             ],
             [
              0.1111111111111111,
              "#46039f"
             ],
             [
              0.2222222222222222,
              "#7201a8"
             ],
             [
              0.3333333333333333,
              "#9c179e"
             ],
             [
              0.4444444444444444,
              "#bd3786"
             ],
             [
              0.5555555555555556,
              "#d8576b"
             ],
             [
              0.6666666666666666,
              "#ed7953"
             ],
             [
              0.7777777777777778,
              "#fb9f3a"
             ],
             [
              0.8888888888888888,
              "#fdca26"
             ],
             [
              1,
              "#f0f921"
             ]
            ],
            "type": "heatmapgl"
           }
          ],
          "histogram": [
           {
            "marker": {
             "pattern": {
              "fillmode": "overlay",
              "size": 10,
              "solidity": 0.2
             }
            },
            "type": "histogram"
           }
          ],
          "histogram2d": [
           {
            "colorbar": {
             "outlinewidth": 0,
             "ticks": ""
            },
            "colorscale": [
             [
              0,
              "#0d0887"
             ],
             [
              0.1111111111111111,
              "#46039f"
             ],
             [
              0.2222222222222222,
              "#7201a8"
             ],
             [
              0.3333333333333333,
              "#9c179e"
             ],
             [
              0.4444444444444444,
              "#bd3786"
             ],
             [
              0.5555555555555556,
              "#d8576b"
             ],
             [
              0.6666666666666666,
              "#ed7953"
             ],
             [
              0.7777777777777778,
              "#fb9f3a"
             ],
             [
              0.8888888888888888,
              "#fdca26"
             ],
             [
              1,
              "#f0f921"
             ]
            ],
            "type": "histogram2d"
           }
          ],
          "histogram2dcontour": [
           {
            "colorbar": {
             "outlinewidth": 0,
             "ticks": ""
            },
            "colorscale": [
             [
              0,
              "#0d0887"
             ],
             [
              0.1111111111111111,
              "#46039f"
             ],
             [
              0.2222222222222222,
              "#7201a8"
             ],
             [
              0.3333333333333333,
              "#9c179e"
             ],
             [
              0.4444444444444444,
              "#bd3786"
             ],
             [
              0.5555555555555556,
              "#d8576b"
             ],
             [
              0.6666666666666666,
              "#ed7953"
             ],
             [
              0.7777777777777778,
              "#fb9f3a"
             ],
             [
              0.8888888888888888,
              "#fdca26"
             ],
             [
              1,
              "#f0f921"
             ]
            ],
            "type": "histogram2dcontour"
           }
          ],
          "mesh3d": [
           {
            "colorbar": {
             "outlinewidth": 0,
             "ticks": ""
            },
            "type": "mesh3d"
           }
          ],
          "parcoords": [
           {
            "line": {
             "colorbar": {
              "outlinewidth": 0,
              "ticks": ""
             }
            },
            "type": "parcoords"
           }
          ],
          "pie": [
           {
            "automargin": true,
            "type": "pie"
           }
          ],
          "scatter": [
           {
            "fillpattern": {
             "fillmode": "overlay",
             "size": 10,
             "solidity": 0.2
            },
            "type": "scatter"
           }
          ],
          "scatter3d": [
           {
            "line": {
             "colorbar": {
              "outlinewidth": 0,
              "ticks": ""
             }
            },
            "marker": {
             "colorbar": {
              "outlinewidth": 0,
              "ticks": ""
             }
            },
            "type": "scatter3d"
           }
          ],
          "scattercarpet": [
           {
            "marker": {
             "colorbar": {
              "outlinewidth": 0,
              "ticks": ""
             }
            },
            "type": "scattercarpet"
           }
          ],
          "scattergeo": [
           {
            "marker": {
             "colorbar": {
              "outlinewidth": 0,
              "ticks": ""
             }
            },
            "type": "scattergeo"
           }
          ],
          "scattergl": [
           {
            "marker": {
             "colorbar": {
              "outlinewidth": 0,
              "ticks": ""
             }
            },
            "type": "scattergl"
           }
          ],
          "scattermapbox": [
           {
            "marker": {
             "colorbar": {
              "outlinewidth": 0,
              "ticks": ""
             }
            },
            "type": "scattermapbox"
           }
          ],
          "scatterpolar": [
           {
            "marker": {
             "colorbar": {
              "outlinewidth": 0,
              "ticks": ""
             }
            },
            "type": "scatterpolar"
           }
          ],
          "scatterpolargl": [
           {
            "marker": {
             "colorbar": {
              "outlinewidth": 0,
              "ticks": ""
             }
            },
            "type": "scatterpolargl"
           }
          ],
          "scatterternary": [
           {
            "marker": {
             "colorbar": {
              "outlinewidth": 0,
              "ticks": ""
             }
            },
            "type": "scatterternary"
           }
          ],
          "surface": [
           {
            "colorbar": {
             "outlinewidth": 0,
             "ticks": ""
            },
            "colorscale": [
             [
              0,
              "#0d0887"
             ],
             [
              0.1111111111111111,
              "#46039f"
             ],
             [
              0.2222222222222222,
              "#7201a8"
             ],
             [
              0.3333333333333333,
              "#9c179e"
             ],
             [
              0.4444444444444444,
              "#bd3786"
             ],
             [
              0.5555555555555556,
              "#d8576b"
             ],
             [
              0.6666666666666666,
              "#ed7953"
             ],
             [
              0.7777777777777778,
              "#fb9f3a"
             ],
             [
              0.8888888888888888,
              "#fdca26"
             ],
             [
              1,
              "#f0f921"
             ]
            ],
            "type": "surface"
           }
          ],
          "table": [
           {
            "cells": {
             "fill": {
              "color": "#EBF0F8"
             },
             "line": {
              "color": "white"
             }
            },
            "header": {
             "fill": {
              "color": "#C8D4E3"
             },
             "line": {
              "color": "white"
             }
            },
            "type": "table"
           }
          ]
         },
         "layout": {
          "annotationdefaults": {
           "arrowcolor": "#2a3f5f",
           "arrowhead": 0,
           "arrowwidth": 1
          },
          "autotypenumbers": "strict",
          "coloraxis": {
           "colorbar": {
            "outlinewidth": 0,
            "ticks": ""
           }
          },
          "colorscale": {
           "diverging": [
            [
             0,
             "#8e0152"
            ],
            [
             0.1,
             "#c51b7d"
            ],
            [
             0.2,
             "#de77ae"
            ],
            [
             0.3,
             "#f1b6da"
            ],
            [
             0.4,
             "#fde0ef"
            ],
            [
             0.5,
             "#f7f7f7"
            ],
            [
             0.6,
             "#e6f5d0"
            ],
            [
             0.7,
             "#b8e186"
            ],
            [
             0.8,
             "#7fbc41"
            ],
            [
             0.9,
             "#4d9221"
            ],
            [
             1,
             "#276419"
            ]
           ],
           "sequential": [
            [
             0,
             "#0d0887"
            ],
            [
             0.1111111111111111,
             "#46039f"
            ],
            [
             0.2222222222222222,
             "#7201a8"
            ],
            [
             0.3333333333333333,
             "#9c179e"
            ],
            [
             0.4444444444444444,
             "#bd3786"
            ],
            [
             0.5555555555555556,
             "#d8576b"
            ],
            [
             0.6666666666666666,
             "#ed7953"
            ],
            [
             0.7777777777777778,
             "#fb9f3a"
            ],
            [
             0.8888888888888888,
             "#fdca26"
            ],
            [
             1,
             "#f0f921"
            ]
           ],
           "sequentialminus": [
            [
             0,
             "#0d0887"
            ],
            [
             0.1111111111111111,
             "#46039f"
            ],
            [
             0.2222222222222222,
             "#7201a8"
            ],
            [
             0.3333333333333333,
             "#9c179e"
            ],
            [
             0.4444444444444444,
             "#bd3786"
            ],
            [
             0.5555555555555556,
             "#d8576b"
            ],
            [
             0.6666666666666666,
             "#ed7953"
            ],
            [
             0.7777777777777778,
             "#fb9f3a"
            ],
            [
             0.8888888888888888,
             "#fdca26"
            ],
            [
             1,
             "#f0f921"
            ]
           ]
          },
          "colorway": [
           "#636efa",
           "#EF553B",
           "#00cc96",
           "#ab63fa",
           "#FFA15A",
           "#19d3f3",
           "#FF6692",
           "#B6E880",
           "#FF97FF",
           "#FECB52"
          ],
          "font": {
           "color": "#2a3f5f"
          },
          "geo": {
           "bgcolor": "white",
           "lakecolor": "white",
           "landcolor": "#E5ECF6",
           "showlakes": true,
           "showland": true,
           "subunitcolor": "white"
          },
          "hoverlabel": {
           "align": "left"
          },
          "hovermode": "closest",
          "mapbox": {
           "style": "light"
          },
          "paper_bgcolor": "white",
          "plot_bgcolor": "#E5ECF6",
          "polar": {
           "angularaxis": {
            "gridcolor": "white",
            "linecolor": "white",
            "ticks": ""
           },
           "bgcolor": "#E5ECF6",
           "radialaxis": {
            "gridcolor": "white",
            "linecolor": "white",
            "ticks": ""
           }
          },
          "scene": {
           "xaxis": {
            "backgroundcolor": "#E5ECF6",
            "gridcolor": "white",
            "gridwidth": 2,
            "linecolor": "white",
            "showbackground": true,
            "ticks": "",
            "zerolinecolor": "white"
           },
           "yaxis": {
            "backgroundcolor": "#E5ECF6",
            "gridcolor": "white",
            "gridwidth": 2,
            "linecolor": "white",
            "showbackground": true,
            "ticks": "",
            "zerolinecolor": "white"
           },
           "zaxis": {
            "backgroundcolor": "#E5ECF6",
            "gridcolor": "white",
            "gridwidth": 2,
            "linecolor": "white",
            "showbackground": true,
            "ticks": "",
            "zerolinecolor": "white"
           }
          },
          "shapedefaults": {
           "line": {
            "color": "#2a3f5f"
           }
          },
          "ternary": {
           "aaxis": {
            "gridcolor": "white",
            "linecolor": "white",
            "ticks": ""
           },
           "baxis": {
            "gridcolor": "white",
            "linecolor": "white",
            "ticks": ""
           },
           "bgcolor": "#E5ECF6",
           "caxis": {
            "gridcolor": "white",
            "linecolor": "white",
            "ticks": ""
           }
          },
          "title": {
           "x": 0.05
          },
          "xaxis": {
           "automargin": true,
           "gridcolor": "white",
           "linecolor": "white",
           "ticks": "",
           "title": {
            "standoff": 15
           },
           "zerolinecolor": "white",
           "zerolinewidth": 2
          },
          "yaxis": {
           "automargin": true,
           "gridcolor": "white",
           "linecolor": "white",
           "ticks": "",
           "title": {
            "standoff": 15
           },
           "zerolinecolor": "white",
           "zerolinewidth": 2
          }
         }
        },
        "title": {
         "text": "Média de Diversidade Lexica"
        },
        "uniformtext": {
         "minsize": 8,
         "mode": "hide"
        },
        "xaxis": {
         "tickangle": 90,
         "title": {
          "text": "Gênero"
         }
        },
        "yaxis": {
         "title": {
          "text": "Media Diversidade Lexical"
         }
        }
       }
      }
     },
     "metadata": {},
     "output_type": "display_data"
    }
   ],
   "source": [
    "import pandas as pd\n",
    "df = pd.read_excel('lyrical_to_comparison.xlsx')\n",
    "\n",
    "medias = {}\n",
    "for genero in df['Genero'].unique():\n",
    "    filtro = df['Genero'] == genero\n",
    "    df_filtrado = df[filtro]\n",
    "    medias[genero] = {\n",
    "        'Volume de Vocabulario': df_filtrado['Volume de Vocabulario'].mean(),\n",
    "        'Diversidade Lexical': df_filtrado['Diversidade Lexical'].mean()\n",
    "    }\n",
    "\n",
    "# Criar o dicionário\n",
    "data = {\n",
    "    'Genero': df['Genero'].unique(),\n",
    "    'Media Volume de Vocabulário': [medias[genero]['Volume de Vocabulario'] for genero in df['Genero'].unique()],\n",
    "    'Media Diversidade Lexical': [medias[genero]['Diversidade Lexical'] for genero in df['Genero'].unique()]\n",
    "}\n",
    "\n",
    "# Criar o novo DataFrame\n",
    "novo_df = pd.DataFrame(data)\n",
    "\n",
    "import plotly.graph_objects as go\n",
    "\n",
    "fig = go.Figure()\n",
    "\n",
    "# Adicionar o gráfico de barras\n",
    "fig.add_trace(go.Bar(\n",
    "    x=novo_df['Genero'],\n",
    "    y=novo_df['Media Volume de Vocabulário'],\n",
    "    text=novo_df['Media Volume de Vocabulário'],\n",
    "    textposition='auto',  # Define a posição dos valores nos gráficos de barras\n",
    "    width=0.8  # Ajuste a largura das barras conforme necessário\n",
    "))\n",
    "\n",
    "# Personalizar o layout\n",
    "fig.update_layout(\n",
    "    title='Média de Volume de Vocabulário por Gênero',\n",
    "    xaxis=dict(title='Gênero'),\n",
    "    yaxis=dict(title='Média de Volume de Vocabulário'),\n",
    "    uniformtext_minsize=8,  # Tamanho mínimo do texto nas barras\n",
    "    uniformtext_mode='hide',  # Esconde o texto que não cabe\n",
    "    bargap=0.1  # Ajusta o espaçamento entre as barras\n",
    ")\n",
    "\n",
    "# Rotacionar os rótulos do eixo x para melhor legibilidade\n",
    "fig.update_xaxes(tickangle=90)\n",
    "\n",
    "# Mostrar o gráfico\n",
    "fig.show()\n",
    "\n",
    "fig = go.Figure()\n",
    "\n",
    "# Adicionar o gráfico de barras\n",
    "fig.add_trace(go.Bar(\n",
    "    x=novo_df['Genero'],\n",
    "    y=novo_df['Media Diversidade Lexical'],\n",
    "    text=novo_df['Media Diversidade Lexical'],\n",
    "    textposition='auto',  # Define a posição dos valores nos gráficos de barras\n",
    "    width=0.8  # Ajuste a largura das barras conforme necessário\n",
    "))\n",
    "\n",
    "# Personalizar o layout\n",
    "fig.update_layout(\n",
    "    title='Média de Diversidade Lexica',\n",
    "    xaxis=dict(title='Gênero'),\n",
    "    yaxis=dict(title='Media Diversidade Lexical'),\n",
    "    uniformtext_minsize=8,  # Tamanho mínimo do texto nas barras\n",
    "    uniformtext_mode='hide',  # Esconde o texto que não cabe\n",
    "    bargap=0.1  # Ajusta o espaçamento entre as barras\n",
    ")\n",
    "\n",
    "# Rotacionar os rótulos do eixo x para melhor legibilidade\n",
    "fig.update_xaxes(tickangle=90)\n",
    "\n",
    "# Mostrar o gráfico\n",
    "fig.show()"
   ]
  }
 ],
 "metadata": {
  "kernelspec": {
   "display_name": "base",
   "language": "python",
   "name": "python3"
  },
  "language_info": {
   "codemirror_mode": {
    "name": "ipython",
    "version": 3
   },
   "file_extension": ".py",
   "mimetype": "text/x-python",
   "name": "python",
   "nbconvert_exporter": "python",
   "pygments_lexer": "ipython3",
   "version": "3.11.7"
  }
 },
 "nbformat": 4,
 "nbformat_minor": 2
}
